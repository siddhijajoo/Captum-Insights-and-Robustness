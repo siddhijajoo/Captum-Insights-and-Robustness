{
 "cells": [
  {
   "cell_type": "code",
   "execution_count": 1,
   "id": "fdc21ccb",
   "metadata": {},
   "outputs": [],
   "source": [
    "import os\n",
    "import torch\n",
    "import torch.nn as nn\n",
    "import torchvision\n",
    "import torchvision.transforms as transforms\n",
    "import torchvision.models as models\n",
    "from captum.insights import AttributionVisualizer, Batch\n",
    "import numpy as np\n",
    "import json\n",
    "from PIL import Image "
   ]
  },
  {
   "cell_type": "code",
   "execution_count": 2,
   "id": "f2ed3852",
   "metadata": {},
   "outputs": [],
   "source": [
    "import base64\n",
    "import warnings\n",
    "from collections import namedtuple\n",
    "from io import BytesIO\n",
    "from typing import Callable, List, Optional, Union\n",
    "from captum._utils.common import safe_div\n",
    "from captum.attr._utils import visualization as viz\n",
    "from captum.insights.attr_vis._utils.transforms import format_transforms\n",
    "\n",
    "FeatureOutput = namedtuple(\"FeatureOutput\", \"name base modified type contribution\")\n",
    "\n",
    "\n",
    "def _convert_figure_base64(fig):\n",
    "    buff = BytesIO()\n",
    "    with warnings.catch_warnings():\n",
    "        warnings.simplefilter(\"ignore\")\n",
    "        fig.tight_layout()  # removes padding\n",
    "    fig.savefig(buff, format=\"png\")\n",
    "    base64img = base64.b64encode(buff.getvalue()).decode(\"utf-8\")\n",
    "    return base64img\n",
    "\n",
    "class BaseFeature:\n",
    "    def __init__(\n",
    "        self,\n",
    "        name: str,\n",
    "        baseline_transforms: Optional[Union[Callable, List[Callable]]],\n",
    "        input_transforms: Optional[Union[Callable, List[Callable]]],\n",
    "        visualization_transform: Optional[Callable],\n",
    "    ) -> None:\n",
    "        self.name = name\n",
    "        self.baseline_transforms = format_transforms(baseline_transforms)\n",
    "        self.input_transforms = format_transforms(input_transforms)\n",
    "        self.visualization_transform = visualization_transform\n",
    "\n",
    "    @staticmethod\n",
    "    def visualization_type() -> str:\n",
    "        raise NotImplementedError\n",
    "\n",
    "    def visualize(self, attribution, data, contribution_frac) -> FeatureOutput:\n",
    "        raise NotImplementedError\n",
    "\n",
    "\n",
    "class ImageFeature(BaseFeature):\n",
    "    def __init__(\n",
    "        self,\n",
    "        name: str,\n",
    "        baseline_transforms: Union[Callable, List[Callable]],\n",
    "        input_transforms: Union[Callable, List[Callable]],\n",
    "        visualization_transform: Optional[Callable] = None,\n",
    "    ) -> None:\n",
    "        super().__init__(\n",
    "            name,\n",
    "            baseline_transforms=baseline_transforms,\n",
    "            input_transforms=input_transforms,\n",
    "            visualization_transform=visualization_transform,\n",
    "        )\n",
    "\n",
    "    @staticmethod\n",
    "    def visualization_type() -> str:\n",
    "        return \"image\"\n",
    "\n",
    "    def visualize(self, attribution, data, contribution_frac) -> FeatureOutput:\n",
    "        if self.visualization_transform:\n",
    "            data = self.visualization_transform(data)\n",
    "            print(data.shape)\n",
    "        data_t, attribution_t = [\n",
    "            t.detach().squeeze().cpu().numpy()\n",
    "            for t in (data, attribution)\n",
    "        ]\n",
    "        data_t =data_t.reshape(28,28,1)\n",
    "        attribution_t = attribution_t.reshape(28,28,1)\n",
    "        orig_fig, _ = viz.visualize_image_attr(\n",
    "            attribution_t, data_t, method=\"original_image\", use_pyplot=False #alpha_overlay=True\n",
    "        )\n",
    "        attr_fig, _ = viz.visualize_image_attr(\n",
    "            attribution_t,\n",
    "            data_t,\n",
    "            method=\"heat_map\",\n",
    "            sign=\"absolute_value\",\n",
    "            use_pyplot=False,\n",
    "        )\n",
    "        img_64 = _convert_figure_base64(orig_fig)\n",
    "        attr_img_64 = _convert_figure_base64(attr_fig)\n",
    "\n",
    "        return FeatureOutput(\n",
    "            name=self.name,\n",
    "            base=img_64,\n",
    "            modified=attr_img_64,\n",
    "            type=self.visualization_type(),\n",
    "            contribution=contribution_frac,\n",
    "        )"
   ]
  },
  {
   "cell_type": "code",
   "execution_count": 3,
   "id": "6b2d15bf",
   "metadata": {},
   "outputs": [
    {
     "data": {
      "application/vnd.jupyter.widget-view+json": {
       "model_id": "1d591242e3f84c418f35664f1f5d05db",
       "version_major": 2,
       "version_minor": 0
      },
      "text/plain": [
       "CaptumInsights(insights_config={'classes': ['top', 'trouser', 'pullover', 'dress', 'coat', 'sandal', 'shirt', …"
      ]
     },
     "metadata": {},
     "output_type": "display_data"
    },
    {
     "data": {
      "application/vnd.jupyter.widget-view+json": {
       "model_id": "33bd5289a32a46a08a1300eab88d066f",
       "version_major": 2,
       "version_minor": 0
      },
      "text/plain": [
       "Output()"
      ]
     },
     "metadata": {},
     "output_type": "display_data"
    }
   ],
   "source": [
    "# code 1: Classic version to filter and visualize any classes out of captum insights\n",
    "\n",
    "def get_classes():\n",
    "    classes =[\"top\", \"trouser\", \"pullover\", \"dress\", \"coat\",\"sandal\", \"shirt\", \"sneaker\", \"bag\", \"ankle boot\"]\n",
    "    return classes\n",
    "\n",
    "\n",
    "def get_pretrained_model():\n",
    "    class FashionCNN(nn.Module):\n",
    "        def __init__(self):\n",
    "            super(FashionCNN, self).__init__()\n",
    "\n",
    "            self.layer1 = nn.Sequential(\n",
    "                nn.Conv2d(in_channels=1, out_channels=32, kernel_size=3, padding=1),\n",
    "                nn.BatchNorm2d(32),\n",
    "                nn.ReLU(),\n",
    "                nn.MaxPool2d(kernel_size=2, stride=2)\n",
    "            )\n",
    "\n",
    "            self.layer2 = nn.Sequential(\n",
    "                nn.Conv2d(in_channels=32, out_channels=64, kernel_size=3),\n",
    "                nn.BatchNorm2d(64),\n",
    "                nn.ReLU(),\n",
    "                nn.MaxPool2d(2)\n",
    "            )\n",
    "\n",
    "            self.fc1 = nn.Linear(in_features=64*6*6, out_features=600)\n",
    "            self.drop = nn.Dropout(0.25)\n",
    "            self.fc2 = nn.Linear(in_features=600, out_features=120)\n",
    "            self.fc3 = nn.Linear(in_features=120, out_features=10)\n",
    "\n",
    "        def forward(self, x):\n",
    "            out = self.layer1(x)\n",
    "            out = self.layer2(out)\n",
    "            out = out.view(out.size(0), -1)\n",
    "            out = self.fc1(out)\n",
    "            out = self.drop(out)\n",
    "            out = self.fc2(out)\n",
    "            out = self.fc3(out)\n",
    "            return out\n",
    "\n",
    "    net = FashionCNN()\n",
    "    net.load_state_dict(torch.load(\"C:/Users/DELL/Documents/deep learning/FashionMnist_torchvision.pt\",map_location=torch.device('cpu')))\n",
    "    for param in net.parameters():\n",
    "        param.requires_grad = False\n",
    "    return net\n",
    "\n",
    "\n",
    "def baseline_func(input):\n",
    "    return input * 0\n",
    "\n",
    "\n",
    "def formatted_data_iter():\n",
    "    transform = transforms.Compose([transforms.ToTensor(), transforms.Resize((28,28)),\n",
    "                                transforms.Normalize((0.5, ), (0.5, ))])\n",
    "    dataset = torchvision.datasets.FashionMNIST(root='./data', train=False,\n",
    "                                       download=True, transform=transform)\n",
    "    print(dataset)\n",
    "    dataloader = iter(\n",
    "        torch.utils.data.DataLoader(dataset, batch_size=64, shuffle=True)\n",
    "    )\n",
    "    while True:\n",
    "        images, labels = next(dataloader)\n",
    "        #images = images.unsqueeze(0).permute(64,2,0)\n",
    "        yield Batch(inputs=images, labels=labels)\n",
    "\n",
    "\n",
    "def full(input):\n",
    "    return input.reshape(28,28,1) #torch.cat(list(map(lambda i: i, input)), 0) #.squeeze(2)#np.transpose(input.numpy(), (1,2,0))#input.squeeze().detach().cpu()#[i.cpu().detach().numpy().squeeze() for i in input]\n",
    "\n",
    "def demo(input):\n",
    "    transform = torchvision.transforms.Compose([\n",
    "     torchvision.transforms.Resize(28),\n",
    "     torchvision.transforms.CenterCrop(28),\n",
    "     torchvision.transforms.ToTensor(),\n",
    "    ])\n",
    "    transform_normalize = torchvision.transforms.Normalize(\n",
    "    mean=[0.485],\n",
    "    std=[0.229],\n",
    "    )\n",
    "    i = Image.open(input).convert('L')\n",
    "    i = transform(i)\n",
    "    i = transform_normalize(i)\n",
    "    i = i.unsqueeze(0)\n",
    "    return i\n",
    "\n",
    "#Main code\n",
    "normalize = transforms.Normalize((0.5,), (0.5, ))\n",
    "model = get_pretrained_model()\n",
    "visualizer = AttributionVisualizer(\n",
    "    models=[model],\n",
    "    score_func=lambda o: torch.nn.functional.softmax(o, 1),\n",
    "    classes=get_classes(),\n",
    "    features=[\n",
    "        ImageFeature(\n",
    "            \"Photo\",\n",
    "            baseline_transforms=[baseline_func],\n",
    "             visualization_transform=None,\n",
    "            input_transforms=[normalize],\n",
    "           \n",
    "        )\n",
    "    ],\n",
    "    dataset=formatted_data_iter(),\n",
    ")\n",
    "visualizer.render(debug=True)"
   ]
  },
  {
   "cell_type": "code",
   "execution_count": 3,
   "id": "da0e841d-9655-4265-93f0-97196c5c8d06",
   "metadata": {},
   "outputs": [
    {
     "data": {
      "application/vnd.jupyter.widget-view+json": {
       "model_id": "1d591242e3f84c418f35664f1f5d05db",
       "version_major": 2,
       "version_minor": 0
      },
      "text/plain": [
       "CaptumInsights(insights_config={'classes': ['top', 'trouser', 'pullover', 'dress', 'coat', 'sandal', 'shirt', …"
      ]
     },
     "metadata": {},
     "output_type": "display_data"
    },
    {
     "data": {
      "application/vnd.jupyter.widget-view+json": {
       "model_id": "33bd5289a32a46a08a1300eab88d066f",
       "version_major": 2,
       "version_minor": 0
      },
      "text/plain": [
       "Output()"
      ]
     },
     "metadata": {},
     "output_type": "display_data"
    }
   ],
   "source": [
    "# code 1: Classic version to filter and visualize any classes out of captum insights\n",
    "\n",
    "def get_classes():\n",
    "    classes =[\"top\", \"trouser\", \"pullover\", \"dress\", \"coat\",\"sandal\", \"shirt\", \"sneaker\", \"bag\", \"ankle boot\"]\n",
    "    return classes\n",
    "\n",
    "\n",
    "def get_pretrained_model():\n",
    "    class FashionCNN(nn.Module):\n",
    "        def __init__(self):\n",
    "            super(FashionCNN, self).__init__()\n",
    "\n",
    "            self.layer1 = nn.Sequential(\n",
    "                nn.Conv2d(in_channels=1, out_channels=32, kernel_size=3, padding=1),\n",
    "                nn.BatchNorm2d(32),\n",
    "                nn.ReLU(),\n",
    "                nn.MaxPool2d(kernel_size=2, stride=2)\n",
    "            )\n",
    "\n",
    "            self.layer2 = nn.Sequential(\n",
    "                nn.Conv2d(in_channels=32, out_channels=64, kernel_size=3),\n",
    "                nn.BatchNorm2d(64),\n",
    "                nn.ReLU(),\n",
    "                nn.MaxPool2d(2)\n",
    "            )\n",
    "\n",
    "            self.fc1 = nn.Linear(in_features=64*6*6, out_features=600)\n",
    "            self.drop = nn.Dropout(0.25)\n",
    "            self.fc2 = nn.Linear(in_features=600, out_features=120)\n",
    "            self.fc3 = nn.Linear(in_features=120, out_features=10)\n",
    "\n",
    "        def forward(self, x):\n",
    "            out = self.layer1(x)\n",
    "            out = self.layer2(out)\n",
    "            out = out.view(out.size(0), -1)\n",
    "            out = self.fc1(out)\n",
    "            out = self.drop(out)\n",
    "            out = self.fc2(out)\n",
    "            out = self.fc3(out)\n",
    "            return out\n",
    "\n",
    "    net = FashionCNN()\n",
    "    net.load_state_dict(torch.load(\"C:/Users/DELL/Documents/deep learning/FashionMnist_torchvision.pt\",map_location=torch.device('cpu')))\n",
    "    for param in net.parameters():\n",
    "        param.requires_grad = False\n",
    "    return net\n",
    "\n",
    "\n",
    "def baseline_func(input):\n",
    "    return input * 0\n",
    "\n",
    "\n",
    "def formatted_data_iter():\n",
    "    transform = transforms.Compose([transforms.ToTensor(), transforms.Resize((28,28)),\n",
    "                                transforms.Normalize((0.5, ), (0.5, ))])\n",
    "    dataset = torchvision.datasets.FashionMNIST(root='./data', train=False,\n",
    "                                       download=True, transform=transform)\n",
    "    print(dataset)\n",
    "    dataloader = iter(\n",
    "        torch.utils.data.DataLoader(dataset, batch_size=64, shuffle=True)\n",
    "    )\n",
    "    while True:\n",
    "        images, labels = next(dataloader)\n",
    "        #images = images.unsqueeze(0).permute(64,2,0)\n",
    "        yield Batch(inputs=images, labels=labels)\n",
    "\n",
    "\n",
    "def full(input):\n",
    "    return input.reshape(28,28,1) #torch.cat(list(map(lambda i: i, input)), 0) #.squeeze(2)#np.transpose(input.numpy(), (1,2,0))#input.squeeze().detach().cpu()#[i.cpu().detach().numpy().squeeze() for i in input]\n",
    "\n",
    "def demo(input):\n",
    "    transform = torchvision.transforms.Compose([\n",
    "     torchvision.transforms.Resize(28),\n",
    "     torchvision.transforms.CenterCrop(28),\n",
    "     torchvision.transforms.ToTensor(),\n",
    "    ])\n",
    "    transform_normalize = torchvision.transforms.Normalize(\n",
    "    mean=[0.485],\n",
    "    std=[0.229],\n",
    "    )\n",
    "    i = Image.open(input).convert('L')\n",
    "    i = transform(i)\n",
    "    i = transform_normalize(i)\n",
    "    i = i.unsqueeze(0)\n",
    "    return i\n",
    "\n",
    "#Main code\n",
    "normalize = transforms.Normalize((0.5,), (0.5, ))\n",
    "model = get_pretrained_model()\n",
    "visualizer = AttributionVisualizer(\n",
    "    models=[model],\n",
    "    score_func=lambda o: torch.nn.functional.softmax(o, 1),\n",
    "    classes=get_classes(),\n",
    "    features=[\n",
    "        ImageFeature(\n",
    "            \"Photo\",\n",
    "            baseline_transforms=[baseline_func],\n",
    "             visualization_transform=None,\n",
    "            input_transforms=[normalize],\n",
    "           \n",
    "        )\n",
    "    ],\n",
    "    dataset=formatted_data_iter(),\n",
    ")\n",
    "visualizer.render(debug=True)"
   ]
  },
  {
   "cell_type": "code",
   "execution_count": 17,
   "id": "28998068",
   "metadata": {
    "scrolled": true
   },
   "outputs": [
    {
     "data": {
      "application/vnd.jupyter.widget-view+json": {
       "model_id": "e6e8a141eadf43a6aa37b776974fe13a",
       "version_major": 2,
       "version_minor": 0
      },
      "text/plain": [
       "CaptumInsights(insights_config={'classes': ['top', 'trouser', 'pullover', 'dress', 'coat', 'sandal', 'shirt', …"
      ]
     },
     "metadata": {},
     "output_type": "display_data"
    },
    {
     "data": {
      "application/vnd.jupyter.widget-view+json": {
       "model_id": "e108e661cb1e41d5a84cb4d411a9c9be",
       "version_major": 2,
       "version_minor": 0
      },
      "text/plain": [
       "Output()"
      ]
     },
     "metadata": {},
     "output_type": "display_data"
    }
   ],
   "source": [
    "# Code2: For customized version - only following Imgs/classes can be filtered in the captum insights viz\n",
    "\n",
    "imgs = ['img/pullover_1.jpg', 'img/sneaker_1.jpg', 'img/trouser_1.jpg','img/sneaker_2.jpg']\n",
    "\n",
    "labelNames = [\"top\", \"trouser\", \"pullover\", \"dress\", \"coat\",\n",
    "\t\"sandal\", \"shirt\", \"sneaker\", \"bag\", \"ankle boot\"]\n",
    "transform = torchvision.transforms.Compose([\n",
    " torchvision.transforms.Resize(28),\n",
    " torchvision.transforms.CenterCrop(28),\n",
    " torchvision.transforms.ToTensor(),\n",
    "])\n",
    "transform_normalize = torchvision.transforms.Normalize(\n",
    "    mean=[0.485],\n",
    "    std=[0.229],\n",
    ")\n",
    "\n",
    "for img in imgs:\n",
    "    img = Image.open(img).convert('L')\n",
    "    transformed_img = transform(img)\n",
    "    input_img = transform_normalize(transformed_img)\n",
    "    input_img = input_img.unsqueeze(0) # the model requires a dummy batch dimension\n",
    "    output = model(input_img).argmax().item()\n",
    "    prediction_score, pred_label_idx = torch.topk(torch.tensor(output), 1)\n",
    "    pred_label_idx.squeeze_()\n",
    "    predicted_label = labelNames[output] # idx_to_labels[str(pred_label_idx.item())][1]\n",
    "    #print('Predicted:', predicted_label, '/', pred_label_idx.item(), ' (', prediction_score.squeeze().item(), ')')\n",
    "\n",
    "# Baseline is all-zeros input - this may differ depending on your data\n",
    "def baseline_func(input):\n",
    "    return input * 0\n",
    "\n",
    "\n",
    "# merging our image transforms from above\n",
    "def full_img_transform(input):\n",
    "    transform = torchvision.transforms.Compose([\n",
    "     torchvision.transforms.Resize(28),\n",
    "     torchvision.transforms.CenterCrop(28),\n",
    "     torchvision.transforms.ToTensor(),\n",
    "    ])\n",
    "    transform_normalize = torchvision.transforms.Normalize(\n",
    "    mean=[0.485],\n",
    "    std=[0.229],\n",
    "    )\n",
    "    i = Image.open(input).convert('L')\n",
    "    i = transform(i)\n",
    "    i = transform_normalize(i)\n",
    "    i = i.unsqueeze(0)\n",
    "    return i\n",
    "\n",
    "\n",
    "input_imgs = torch.cat(list(map(lambda i: full_img_transform(i), imgs)), 0)\n",
    "model = get_pretrained_model()\n",
    "visualizer = AttributionVisualizer(\n",
    "    models=[model],\n",
    "    score_func=lambda o: torch.nn.functional.softmax(o, 1),\n",
    "    classes=labelNames, #list(map(lambda k: idx_to_labels[k][1], idx_to_labels.keys())),\n",
    "    features=[\n",
    "        ImageFeature(\n",
    "            \"Photo\",\n",
    "            baseline_transforms=[baseline_func],\n",
    "            input_transforms=[transform_normalize],\n",
    "        )\n",
    "    ],\n",
    "    dataset=[Batch(input_imgs, labels=[2,7,3,7])]\n",
    ")\n",
    "visualizer.render(debug=True)"
   ]
  },
  {
   "cell_type": "markdown",
   "id": "3ad1bba3",
   "metadata": {},
   "source": [
    "## TASK 2"
   ]
  },
  {
   "cell_type": "code",
   "execution_count": 54,
   "id": "8403e384",
   "metadata": {},
   "outputs": [],
   "source": [
    "from captum.robust import FGSM\n",
    "from captum.robust import PGD\n",
    "from matplotlib import pyplot as plt\n",
    "classes=labelNames\n",
    "def image_show(img, pred):\n",
    "    npimg = img.squeeze().detach().numpy()\n",
    "    plt.imshow(npimg)\n",
    "    plt.title(\"prediction: %s\" % pred)\n",
    "    plt.show()\n",
    "    \n",
    "def get_prediction(model, input, normalize_im=False):\n",
    "    if normalize_im:\n",
    "        input = normalize(input)\n",
    "    output = model(input)\n",
    "    _, pred = torch.max(output, dim=1)\n",
    "    return classes[pred], torch.nn.functional.softmax(output)[:,pred]\n",
    "\n",
    "#Image to be attcked\n",
    "test_img = 'img/pullover_1.jpg'\n",
    "img = Image.open(test_img).convert('L')\n",
    "transformed_img = transform(img)\n",
    "input_img = transform_normalize(transformed_img)\n",
    "input_img = input_img.unsqueeze(0) # the model requires a dummy batch dimension\n",
    "output = model(input_img).argmax().item()\n",
    "prediction_score, pred_label_idx = torch.topk(torch.tensor(output), 1)\n",
    "pred_label_idx.squeeze_()\n",
    "predicted_label = labelNames[output] \n",
    "#print('Predicted:', predicted_label, '/', pred_label_idx.item(), ' (', prediction_score.squeeze().item(), ')')"
   ]
  },
  {
   "cell_type": "code",
   "execution_count": 48,
   "id": "91423d44",
   "metadata": {},
   "outputs": [
    {
     "name": "stderr",
     "output_type": "stream",
     "text": [
      "C:\\Users\\Nataka\\AppData\\Local\\Temp\\ipykernel_21888\\298968340.py:16: UserWarning: Implicit dimension choice for softmax has been deprecated. Change the call to include dim=X as an argument.\n",
      "  return classes[pred], torch.nn.functional.softmax(output)[:,pred]\n"
     ]
    },
    {
     "data": {
      "image/png": "[encoded data removed]",
      "text/plain": [
       "<Figure size 640x480 with 1 Axes>"
      ]
     },
     "metadata": {},
     "output_type": "display_data"
    },
    {
     "data": {
      "image/png": "[encoded data removed]",
      "text/plain": [
       "<Figure size 640x480 with 1 Axes>"
      ]
     },
     "metadata": {},
     "output_type": "display_data"
    }
   ],
   "source": [
    " # Construct FGSM attacker\n",
    "model = get_pretrained_model()\n",
    "unnormalize = lambda x: 0.5*x + 0.5\n",
    "fgsm = FGSM(model, lower_bound=-1, upper_bound=1)\n",
    "perturbed_image_fgsm = fgsm.perturb(transform_normalize(input_img), epsilon=0.16, target=2) \n",
    "new_pred_fgsm, score_fgsm = get_prediction(model, perturbed_image_fgsm)\n",
    "\n",
    "image_show(input_img, predicted_label+ \" \" + str(prediction_score.item()))\n",
    "image_show(unnormalize(perturbed_image_fgsm), new_pred_fgsm + \" \" + str(score_fgsm.item()))"
   ]
  },
  {
   "cell_type": "code",
   "execution_count": 55,
   "id": "d60450b9",
   "metadata": {
    "scrolled": true
   },
   "outputs": [
    {
     "name": "stderr",
     "output_type": "stream",
     "text": [
      "C:\\Users\\Nataka\\AppData\\Local\\Temp\\ipykernel_21888\\298968340.py:16: UserWarning: Implicit dimension choice for softmax has been deprecated. Change the call to include dim=X as an argument.\n",
      "  return classes[pred], torch.nn.functional.softmax(output)[:,pred]\n"
     ]
    }
   ],
   "source": [
    " # Construct PGD attacker\n",
    "pgd = PGD(model, torch.nn.CrossEntropyLoss(reduction='none'), lower_bound=-1, upper_bound=1)  # construct the PGD attacker\n",
    "perturbed_image_pgd = pgd.perturb(inputs=input_img, radius=0.13, step_size=0.02, \n",
    "                                  step_num=7, target=torch.tensor([8]), targeted=True) \n",
    "new_pred_pgd, score_pgd = get_prediction(model, perturbed_image_pgd)"
   ]
  },
  {
   "cell_type": "code",
   "execution_count": 56,
   "id": "50d0d264",
   "metadata": {},
   "outputs": [
    {
     "data": {
      "image/png": "[encoded data removed]",
      "text/plain": [
       "<Figure size 640x480 with 1 Axes>"
      ]
     },
     "metadata": {},
     "output_type": "display_data"
    },
    {
     "data": {
      "image/png": "[encoded data removed]",
      "text/plain": [
       "<Figure size 640x480 with 1 Axes>"
      ]
     },
     "metadata": {},
     "output_type": "display_data"
    }
   ],
   "source": [
    "image_show(input_img, predicted_label+ \" \" + str(prediction_score.item()))\n",
    "image_show(unnormalize(perturbed_image_pgd.detach()), new_pred_pgd + \" \" + str(score_pgd.item()))"
   ]
  }
 ],
 "metadata": {
  "kernelspec": {
   "display_name": "Python 3 (ipykernel)",
   "language": "python",
   "name": "python3"
  },
  "language_info": {
   "codemirror_mode": {
    "name": "ipython",
    "version": 3
   },
   "file_extension": ".py",
   "mimetype": "text/x-python",
   "name": "python",
   "nbconvert_exporter": "python",
   "pygments_lexer": "ipython3",
   "version": "3.9.18"
  }
 },
 "nbformat": 4,
 "nbformat_minor": 5
}
